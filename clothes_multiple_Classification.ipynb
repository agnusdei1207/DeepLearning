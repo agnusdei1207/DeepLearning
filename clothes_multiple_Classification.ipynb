{
  "nbformat": 4,
  "nbformat_minor": 0,
  "metadata": {
    "colab": {
      "name": "clothes multiple-Classification.ipynb",
      "provenance": [],
      "collapsed_sections": []
    },
    "kernelspec": {
      "name": "python3",
      "display_name": "Python 3"
    },
    "language_info": {
      "name": "python"
    }
  },
  "cells": [
    {
      "cell_type": "code",
      "execution_count": null,
      "metadata": {
        "colab": {
          "base_uri": "https://localhost:8080/",
          "height": 421
        },
        "id": "xkxuEW1R3OPd",
        "outputId": "67aa3698-8494-4b1c-f197-05480bedb1f5"
      },
      "outputs": [
        {
          "output_type": "stream",
          "name": "stdout",
          "text": [
            "2\n",
            "2\n",
            "(60000, 28, 28)\n",
            "(60000,)\n",
            "(10000, 28, 28)\n",
            "(10000,)\n",
            "정답 : 2\n",
            "정답 유니크 : [0 1 2 3 4 5 6 7 8 9]\n",
            "유니크 카운트 : [6000 6000 6000 6000 6000 6000 6000 6000 6000 6000]\n"
          ]
        },
        {
          "output_type": "display_data",
          "data": {
            "image/png": "[encoded data removed]",
            "text/plain": [
              "<Figure size 432x288 with 1 Axes>"
            ]
          },
          "metadata": {
            "needs_background": "light"
          }
        }
      ],
      "source": [
        "import tensorflow as tf\n",
        "import numpy as np\n",
        "from tensorflow.keras.datasets import fashion_mnist\n",
        "\n",
        "data = fashion_mnist.load_data()\n",
        "\n",
        "# 이중구조\n",
        "print(len(data[0]))\n",
        "print(len(data[1]))\n",
        "\n",
        "# 이중튜플로 나누기\n",
        "(X_train, y_train),(X_test,y_test) = data\n",
        "\n",
        "# 6만장, 28*28 px\n",
        "print(X_train.shape)\n",
        "print(y_train.shape)\n",
        "print(X_test.shape)\n",
        "print(y_test.shape)\n",
        "\n",
        "# 데이터 시각화\n",
        "import matplotlib.pyplot as plt\n",
        "plt.imshow(X_train[0], cmap=\"gray\") # cmap: gray 흑백\n",
        "print(f\"정답 : {y_train[15000]}\") # 정답 분류\n",
        "print(f\"정답 유니크 : {np.unique(y_train)}\") \n",
        "print(f\"유니크 카운트 : {np.bincount(y_train)}\") "
      ]
    },
    {
      "cell_type": "code",
      "source": [
        "#plt.hist(X_train[0])\n",
        "plt.show()"
      ],
      "metadata": {
        "id": "efxTwnpU4LKI"
      },
      "execution_count": null,
      "outputs": []
    },
    {
      "cell_type": "code",
      "source": [
        "# 모델 설계 준비\n",
        "from tensorflow.python.keras.engine.input_layer import InputLayer\n",
        "from tensorflow.keras import Sequential # 핵심\n",
        "from tensorflow.keras.layers import Dense, InputLayer, Flatten\n",
        "from tensorflow.keras.utils import to_categorical # 다중분류\n",
        "\n",
        "## 다중분류 시 정답데이터를 반드시 확률정보로 바꾸어야 학습을 시킬 수 있다. *****\n",
        "print(f\"정답 :{y_train[:10]}\")\n",
        "print(f\"{to_categorical(y_train[:10])}\") # 원핫인코딩과 비슷한 구조 / 10 종류 = 10 개의 선 = 10 개의 확률\n",
        "\n",
        "# 다중분류로 정답데이터 분류\n",
        "y_train_one_hot = to_categorical(y_train)\n",
        "y_test_one_hot = to_categorical(y_test)"
      ],
      "metadata": {
        "colab": {
          "base_uri": "https://localhost:8080/"
        },
        "id": "ypDKNiL57ByX",
        "outputId": "86370783-44ce-4d13-9c1a-af56340b05c0"
      },
      "execution_count": null,
      "outputs": [
        {
          "output_type": "stream",
          "name": "stdout",
          "text": [
            "정답 :[9 0 0 3 0 2 7 2 5 5]\n",
            "[[0. 0. 0. 0. 0. 0. 0. 0. 0. 1.]\n",
            " [1. 0. 0. 0. 0. 0. 0. 0. 0. 0.]\n",
            " [1. 0. 0. 0. 0. 0. 0. 0. 0. 0.]\n",
            " [0. 0. 0. 1. 0. 0. 0. 0. 0. 0.]\n",
            " [1. 0. 0. 0. 0. 0. 0. 0. 0. 0.]\n",
            " [0. 0. 1. 0. 0. 0. 0. 0. 0. 0.]\n",
            " [0. 0. 0. 0. 0. 0. 0. 1. 0. 0.]\n",
            " [0. 0. 1. 0. 0. 0. 0. 0. 0. 0.]\n",
            " [0. 0. 0. 0. 0. 1. 0. 0. 0. 0.]\n",
            " [0. 0. 0. 0. 0. 1. 0. 0. 0. 0.]]\n"
          ]
        }
      ]
    },
    {
      "cell_type": "code",
      "source": [
        "# 모델 구조 설계\n",
        "mnist_model = Sequential()\n",
        "mnist_model.add(InputLayer(input_shape=(28,28))) # (sample, 가로px, 세로px, 색상수3)\n",
        "# CNN 2차원 데이터를 처리하는 알고리즘이 중간에 들어온다\n",
        "mnist_model.add(Flatten()) # 데이터를 1차원으로 평평하게 만들어주는 레이어\n",
        "mnist_model.add(Dense(32, activation=\"sigmoid\"))\n",
        "mnist_model.add(Dense(64, activation=\"sigmoid\"))\n",
        "mnist_model.add(Dense(128, activation=\"sigmoid\"))\n",
        "mnist_model.add(Dense(64, activation=\"sigmoid\"))\n",
        "mnist_model.add(Dense(32, activation=\"sigmoid\"))\n",
        "# 출력층 / 다중분류 시 유니크 값에 해당하는 총 10개의 확률값이 필요하다.\n",
        "mnist_model.add(Dense(10, activation=\"softmax\")) # softmax : 현재/전체 데이터 비율 >> 사람이 보기 쉽게 합산을 1.0 으로 만들어 줌 / 출력층\n",
        "\n",
        "# 학습/평가 방법 설정\n",
        "mnist_model.compile(loss=\"sparse_categorical_crossentropy\", # sparse_categorical_crossentropy : 내부에서 확률을 계산해주는 친구\n",
        "                      # sparse 를 사용하지 않다면 학습에서 y_train_one_hot 을 사용해야 한다. (확률형)\n",
        "                    optimizer=\"Adam\", # default : GD / Adam : 최신 버전\n",
        "                    metrics=[\"accuracy\"]) # metrics : 정확도를 보여 줌\n",
        "\n",
        "# 학습\n",
        "mnist_history = mnist_model.fit(X_train, y_train,\n",
        "                validation_split=0.3, # 학습과 검증 분리 7:3\n",
        "                epochs=100)"
      ],
      "metadata": {
        "colab": {
          "base_uri": "https://localhost:8080/"
        },
        "id": "mP4_xa2Y7JQu",
        "outputId": "77c27a03-2cf3-43a2-97b4-b1d8b019ac3f"
      },
      "execution_count": null,
      "outputs": [
        {
          "output_type": "stream",
          "name": "stdout",
          "text": [
            "Epoch 1/100\n",
            "1313/1313 [==============================] - 11s 8ms/step - loss: 1.5592 - accuracy: 0.3430 - val_loss: 1.2106 - val_accuracy: 0.4444\n",
            "Epoch 2/100\n",
            "1313/1313 [==============================] - 6s 4ms/step - loss: 1.1629 - accuracy: 0.4998 - val_loss: 1.1316 - val_accuracy: 0.5437\n",
            "Epoch 3/100\n",
            "1313/1313 [==============================] - 4s 3ms/step - loss: 1.0922 - accuracy: 0.5628 - val_loss: 0.9829 - val_accuracy: 0.6227\n",
            "Epoch 4/100\n",
            "1313/1313 [==============================] - 4s 3ms/step - loss: 0.9932 - accuracy: 0.5989 - val_loss: 0.9202 - val_accuracy: 0.6378\n",
            "Epoch 5/100\n",
            "1313/1313 [==============================] - 4s 3ms/step - loss: 0.9650 - accuracy: 0.6254 - val_loss: 0.9485 - val_accuracy: 0.6143\n",
            "Epoch 6/100\n",
            "1313/1313 [==============================] - 4s 3ms/step - loss: 1.0164 - accuracy: 0.5960 - val_loss: 0.9850 - val_accuracy: 0.6319\n",
            "Epoch 7/100\n",
            "1313/1313 [==============================] - 4s 3ms/step - loss: 0.9814 - accuracy: 0.6280 - val_loss: 0.8944 - val_accuracy: 0.6799\n",
            "Epoch 8/100\n",
            "1313/1313 [==============================] - 4s 3ms/step - loss: 0.9002 - accuracy: 0.6577 - val_loss: 0.9254 - val_accuracy: 0.6416\n",
            "Epoch 9/100\n",
            "1313/1313 [==============================] - 4s 3ms/step - loss: 0.8997 - accuracy: 0.6546 - val_loss: 0.8517 - val_accuracy: 0.6736\n",
            "Epoch 10/100\n",
            "1313/1313 [==============================] - 4s 3ms/step - loss: 0.8706 - accuracy: 0.6614 - val_loss: 0.9049 - val_accuracy: 0.6524\n",
            "Epoch 11/100\n",
            "1313/1313 [==============================] - 4s 3ms/step - loss: 0.8647 - accuracy: 0.6672 - val_loss: 0.8823 - val_accuracy: 0.6707\n",
            "Epoch 12/100\n",
            "1313/1313 [==============================] - 4s 3ms/step - loss: 0.8816 - accuracy: 0.6618 - val_loss: 0.8466 - val_accuracy: 0.6739\n",
            "Epoch 13/100\n",
            "1313/1313 [==============================] - 4s 3ms/step - loss: 0.8498 - accuracy: 0.6685 - val_loss: 0.8272 - val_accuracy: 0.6834\n",
            "Epoch 14/100\n",
            "1313/1313 [==============================] - 4s 3ms/step - loss: 0.8429 - accuracy: 0.6766 - val_loss: 0.8667 - val_accuracy: 0.6574\n",
            "Epoch 15/100\n",
            "1313/1313 [==============================] - 4s 3ms/step - loss: 0.8120 - accuracy: 0.6868 - val_loss: 0.7935 - val_accuracy: 0.6972\n",
            "Epoch 16/100\n",
            "1313/1313 [==============================] - 4s 3ms/step - loss: 0.8423 - accuracy: 0.6679 - val_loss: 0.8188 - val_accuracy: 0.6966\n",
            "Epoch 17/100\n",
            "1313/1313 [==============================] - 4s 3ms/step - loss: 0.8342 - accuracy: 0.6762 - val_loss: 0.8289 - val_accuracy: 0.6610\n",
            "Epoch 18/100\n",
            "1313/1313 [==============================] - 4s 3ms/step - loss: 0.8411 - accuracy: 0.6655 - val_loss: 0.8732 - val_accuracy: 0.6308\n",
            "Epoch 19/100\n",
            "1313/1313 [==============================] - 4s 3ms/step - loss: 0.8423 - accuracy: 0.6568 - val_loss: 0.9078 - val_accuracy: 0.6441\n",
            "Epoch 20/100\n",
            "1313/1313 [==============================] - 4s 3ms/step - loss: 0.7890 - accuracy: 0.6926 - val_loss: 0.7556 - val_accuracy: 0.7271\n",
            "Epoch 21/100\n",
            "1313/1313 [==============================] - 4s 3ms/step - loss: 0.7915 - accuracy: 0.7013 - val_loss: 0.8715 - val_accuracy: 0.6474\n",
            "Epoch 22/100\n",
            "1313/1313 [==============================] - 4s 3ms/step - loss: 0.8361 - accuracy: 0.6555 - val_loss: 0.8683 - val_accuracy: 0.6587\n",
            "Epoch 23/100\n",
            "1313/1313 [==============================] - 5s 4ms/step - loss: 0.8105 - accuracy: 0.6775 - val_loss: 0.8151 - val_accuracy: 0.6654\n",
            "Epoch 24/100\n",
            "1313/1313 [==============================] - 4s 3ms/step - loss: 0.8124 - accuracy: 0.6657 - val_loss: 0.7523 - val_accuracy: 0.7030\n",
            "Epoch 25/100\n",
            "1313/1313 [==============================] - 4s 3ms/step - loss: 0.7814 - accuracy: 0.6780 - val_loss: 0.7584 - val_accuracy: 0.6894\n",
            "Epoch 26/100\n",
            "1313/1313 [==============================] - 4s 3ms/step - loss: 0.7918 - accuracy: 0.6926 - val_loss: 0.8059 - val_accuracy: 0.6779\n",
            "Epoch 27/100\n",
            "1313/1313 [==============================] - 4s 3ms/step - loss: 0.7766 - accuracy: 0.7041 - val_loss: 0.7995 - val_accuracy: 0.6882\n",
            "Epoch 28/100\n",
            "1313/1313 [==============================] - 4s 3ms/step - loss: 0.7852 - accuracy: 0.7032 - val_loss: 0.7529 - val_accuracy: 0.7247\n",
            "Epoch 29/100\n",
            "1313/1313 [==============================] - 4s 3ms/step - loss: 0.7907 - accuracy: 0.7088 - val_loss: 0.8047 - val_accuracy: 0.6876\n",
            "Epoch 30/100\n",
            "1313/1313 [==============================] - 4s 3ms/step - loss: 0.8585 - accuracy: 0.6664 - val_loss: 0.8509 - val_accuracy: 0.6859\n",
            "Epoch 31/100\n",
            "1313/1313 [==============================] - 4s 3ms/step - loss: 0.8042 - accuracy: 0.6914 - val_loss: 0.8435 - val_accuracy: 0.6806\n",
            "Epoch 32/100\n",
            "1313/1313 [==============================] - 4s 3ms/step - loss: 0.7849 - accuracy: 0.7009 - val_loss: 0.7765 - val_accuracy: 0.7085\n",
            "Epoch 33/100\n",
            "1313/1313 [==============================] - 4s 3ms/step - loss: 0.7623 - accuracy: 0.7107 - val_loss: 0.7586 - val_accuracy: 0.7203\n",
            "Epoch 34/100\n",
            "1313/1313 [==============================] - 4s 3ms/step - loss: 0.7361 - accuracy: 0.7259 - val_loss: 0.7372 - val_accuracy: 0.7151\n",
            "Epoch 35/100\n",
            "1313/1313 [==============================] - 4s 3ms/step - loss: 0.7504 - accuracy: 0.7074 - val_loss: 0.7758 - val_accuracy: 0.6911\n",
            "Epoch 36/100\n",
            "1313/1313 [==============================] - 4s 3ms/step - loss: 0.7873 - accuracy: 0.6746 - val_loss: 0.7663 - val_accuracy: 0.6836\n",
            "Epoch 37/100\n",
            "1313/1313 [==============================] - 4s 3ms/step - loss: 0.7792 - accuracy: 0.6925 - val_loss: 0.7707 - val_accuracy: 0.7053\n",
            "Epoch 38/100\n",
            "1313/1313 [==============================] - 4s 3ms/step - loss: 0.7515 - accuracy: 0.7120 - val_loss: 0.7501 - val_accuracy: 0.7068\n",
            "Epoch 39/100\n",
            "1313/1313 [==============================] - 4s 3ms/step - loss: 0.7748 - accuracy: 0.6977 - val_loss: 0.7636 - val_accuracy: 0.7116\n",
            "Epoch 40/100\n",
            "1313/1313 [==============================] - 5s 4ms/step - loss: 0.7338 - accuracy: 0.7121 - val_loss: 0.7818 - val_accuracy: 0.6707\n",
            "Epoch 41/100\n",
            "1313/1313 [==============================] - 4s 3ms/step - loss: 0.7470 - accuracy: 0.7030 - val_loss: 0.7170 - val_accuracy: 0.7149\n",
            "Epoch 42/100\n",
            "1313/1313 [==============================] - 4s 3ms/step - loss: 0.7135 - accuracy: 0.7078 - val_loss: 0.7335 - val_accuracy: 0.7049\n",
            "Epoch 43/100\n",
            "1313/1313 [==============================] - 4s 3ms/step - loss: 0.7618 - accuracy: 0.7026 - val_loss: 0.7794 - val_accuracy: 0.7066\n",
            "Epoch 44/100\n",
            "1313/1313 [==============================] - 4s 3ms/step - loss: 0.7362 - accuracy: 0.7205 - val_loss: 0.7331 - val_accuracy: 0.7206\n",
            "Epoch 45/100\n",
            "1313/1313 [==============================] - 4s 3ms/step - loss: 0.7295 - accuracy: 0.7306 - val_loss: 0.7235 - val_accuracy: 0.7348\n",
            "Epoch 46/100\n",
            "1313/1313 [==============================] - 4s 3ms/step - loss: 0.7089 - accuracy: 0.7251 - val_loss: 0.6987 - val_accuracy: 0.7254\n",
            "Epoch 47/100\n",
            "1313/1313 [==============================] - 4s 3ms/step - loss: 0.7159 - accuracy: 0.7237 - val_loss: 0.7175 - val_accuracy: 0.7191\n",
            "Epoch 48/100\n",
            "1313/1313 [==============================] - 4s 3ms/step - loss: 0.7130 - accuracy: 0.7232 - val_loss: 0.7299 - val_accuracy: 0.7207\n",
            "Epoch 49/100\n",
            "1313/1313 [==============================] - 4s 3ms/step - loss: 0.7424 - accuracy: 0.7151 - val_loss: 0.7184 - val_accuracy: 0.7289\n",
            "Epoch 50/100\n",
            "1313/1313 [==============================] - 4s 3ms/step - loss: 0.7422 - accuracy: 0.7227 - val_loss: 0.7352 - val_accuracy: 0.7304\n",
            "Epoch 51/100\n",
            "1313/1313 [==============================] - 4s 3ms/step - loss: 0.7186 - accuracy: 0.7276 - val_loss: 0.7060 - val_accuracy: 0.7462\n",
            "Epoch 52/100\n",
            "1313/1313 [==============================] - 4s 3ms/step - loss: 0.6970 - accuracy: 0.7367 - val_loss: 0.6936 - val_accuracy: 0.7489\n",
            "Epoch 53/100\n",
            "1313/1313 [==============================] - 4s 3ms/step - loss: 0.6850 - accuracy: 0.7390 - val_loss: 0.6815 - val_accuracy: 0.7283\n",
            "Epoch 54/100\n",
            "1313/1313 [==============================] - 4s 3ms/step - loss: 0.6708 - accuracy: 0.7312 - val_loss: 0.6751 - val_accuracy: 0.7429\n",
            "Epoch 55/100\n",
            "1313/1313 [==============================] - 4s 3ms/step - loss: 0.6903 - accuracy: 0.7340 - val_loss: 0.7026 - val_accuracy: 0.7428\n",
            "Epoch 56/100\n",
            "1313/1313 [==============================] - 4s 3ms/step - loss: 0.7098 - accuracy: 0.7326 - val_loss: 0.6822 - val_accuracy: 0.7452\n",
            "Epoch 57/100\n",
            "1313/1313 [==============================] - 4s 3ms/step - loss: 0.7052 - accuracy: 0.7315 - val_loss: 0.6758 - val_accuracy: 0.7608\n",
            "Epoch 58/100\n",
            "1313/1313 [==============================] - 4s 3ms/step - loss: 0.6812 - accuracy: 0.7467 - val_loss: 0.6973 - val_accuracy: 0.7441\n",
            "Epoch 59/100\n",
            "1313/1313 [==============================] - 4s 3ms/step - loss: 0.7073 - accuracy: 0.7401 - val_loss: 0.7327 - val_accuracy: 0.7207\n",
            "Epoch 60/100\n",
            "1313/1313 [==============================] - 4s 3ms/step - loss: 0.7119 - accuracy: 0.7281 - val_loss: 0.6887 - val_accuracy: 0.7399\n",
            "Epoch 61/100\n",
            "1313/1313 [==============================] - 4s 3ms/step - loss: 0.7164 - accuracy: 0.7315 - val_loss: 0.7243 - val_accuracy: 0.7342\n",
            "Epoch 62/100\n",
            "1313/1313 [==============================] - 4s 3ms/step - loss: 0.7166 - accuracy: 0.7305 - val_loss: 0.7960 - val_accuracy: 0.7153\n",
            "Epoch 63/100\n",
            "1313/1313 [==============================] - 4s 3ms/step - loss: 0.7141 - accuracy: 0.7320 - val_loss: 0.7226 - val_accuracy: 0.7299\n",
            "Epoch 64/100\n",
            "1313/1313 [==============================] - 4s 3ms/step - loss: 0.7019 - accuracy: 0.7386 - val_loss: 0.7161 - val_accuracy: 0.7302\n",
            "Epoch 65/100\n",
            "1313/1313 [==============================] - 4s 3ms/step - loss: 0.7189 - accuracy: 0.7279 - val_loss: 0.7181 - val_accuracy: 0.7399\n",
            "Epoch 66/100\n",
            "1313/1313 [==============================] - 4s 3ms/step - loss: 0.7284 - accuracy: 0.7280 - val_loss: 0.7600 - val_accuracy: 0.7141\n",
            "Epoch 67/100\n",
            "1313/1313 [==============================] - 4s 3ms/step - loss: 0.7134 - accuracy: 0.7164 - val_loss: 0.7060 - val_accuracy: 0.7322\n",
            "Epoch 68/100\n",
            "1313/1313 [==============================] - 4s 3ms/step - loss: 0.6769 - accuracy: 0.7395 - val_loss: 0.7141 - val_accuracy: 0.7115\n",
            "Epoch 69/100\n",
            "1313/1313 [==============================] - 4s 3ms/step - loss: 0.6861 - accuracy: 0.7402 - val_loss: 0.7210 - val_accuracy: 0.7160\n",
            "Epoch 70/100\n",
            "1313/1313 [==============================] - 4s 3ms/step - loss: 0.7533 - accuracy: 0.7037 - val_loss: 0.7754 - val_accuracy: 0.6845\n",
            "Epoch 71/100\n",
            "1313/1313 [==============================] - 4s 3ms/step - loss: 0.7697 - accuracy: 0.6925 - val_loss: 0.7341 - val_accuracy: 0.7212\n",
            "Epoch 72/100\n",
            "1313/1313 [==============================] - 4s 3ms/step - loss: 0.6794 - accuracy: 0.7458 - val_loss: 0.6628 - val_accuracy: 0.7502\n",
            "Epoch 73/100\n",
            "1313/1313 [==============================] - 4s 3ms/step - loss: 0.6486 - accuracy: 0.7523 - val_loss: 0.6396 - val_accuracy: 0.7462\n",
            "Epoch 74/100\n",
            "1313/1313 [==============================] - 4s 3ms/step - loss: 0.6618 - accuracy: 0.7466 - val_loss: 0.6566 - val_accuracy: 0.7502\n",
            "Epoch 75/100\n",
            "1313/1313 [==============================] - 4s 3ms/step - loss: 0.6275 - accuracy: 0.7703 - val_loss: 0.6185 - val_accuracy: 0.7791\n",
            "Epoch 76/100\n",
            "1313/1313 [==============================] - 4s 3ms/step - loss: 0.6254 - accuracy: 0.7547 - val_loss: 0.6784 - val_accuracy: 0.7239\n",
            "Epoch 77/100\n",
            "1313/1313 [==============================] - 4s 3ms/step - loss: 0.6566 - accuracy: 0.7370 - val_loss: 0.6354 - val_accuracy: 0.7652\n",
            "Epoch 78/100\n",
            "1313/1313 [==============================] - 4s 3ms/step - loss: 0.6302 - accuracy: 0.7707 - val_loss: 0.6261 - val_accuracy: 0.7761\n",
            "Epoch 79/100\n",
            "1313/1313 [==============================] - 4s 3ms/step - loss: 0.6138 - accuracy: 0.7826 - val_loss: 0.6252 - val_accuracy: 0.7728\n",
            "Epoch 80/100\n",
            "1313/1313 [==============================] - 4s 3ms/step - loss: 0.6589 - accuracy: 0.7432 - val_loss: 0.7173 - val_accuracy: 0.7116\n",
            "Epoch 81/100\n",
            "1313/1313 [==============================] - 4s 3ms/step - loss: 0.6522 - accuracy: 0.7497 - val_loss: 0.6322 - val_accuracy: 0.7698\n",
            "Epoch 82/100\n",
            "1313/1313 [==============================] - 4s 3ms/step - loss: 0.6261 - accuracy: 0.7740 - val_loss: 0.6465 - val_accuracy: 0.7647\n",
            "Epoch 83/100\n",
            "1313/1313 [==============================] - 4s 3ms/step - loss: 0.6118 - accuracy: 0.7753 - val_loss: 0.6295 - val_accuracy: 0.7656\n",
            "Epoch 84/100\n",
            "1313/1313 [==============================] - 4s 3ms/step - loss: 0.6249 - accuracy: 0.7597 - val_loss: 0.6253 - val_accuracy: 0.7683\n",
            "Epoch 85/100\n",
            "1313/1313 [==============================] - 4s 3ms/step - loss: 0.6399 - accuracy: 0.7550 - val_loss: 0.6298 - val_accuracy: 0.7691\n",
            "Epoch 86/100\n",
            "1313/1313 [==============================] - 4s 3ms/step - loss: 0.6190 - accuracy: 0.7739 - val_loss: 0.6250 - val_accuracy: 0.7677\n",
            "Epoch 87/100\n",
            "1313/1313 [==============================] - 4s 3ms/step - loss: 0.6113 - accuracy: 0.7716 - val_loss: 0.6341 - val_accuracy: 0.7744\n",
            "Epoch 88/100\n",
            "1313/1313 [==============================] - 4s 3ms/step - loss: 0.6310 - accuracy: 0.7622 - val_loss: 0.6151 - val_accuracy: 0.7728\n",
            "Epoch 89/100\n",
            "1313/1313 [==============================] - 4s 3ms/step - loss: 0.6139 - accuracy: 0.7792 - val_loss: 0.6275 - val_accuracy: 0.7785\n",
            "Epoch 90/100\n",
            "1313/1313 [==============================] - 4s 3ms/step - loss: 0.6365 - accuracy: 0.7573 - val_loss: 0.6354 - val_accuracy: 0.7509\n",
            "Epoch 91/100\n",
            "1313/1313 [==============================] - 4s 3ms/step - loss: 0.6114 - accuracy: 0.7714 - val_loss: 0.6156 - val_accuracy: 0.7763\n",
            "Epoch 92/100\n",
            "1313/1313 [==============================] - 4s 3ms/step - loss: 0.6192 - accuracy: 0.7650 - val_loss: 0.6553 - val_accuracy: 0.7623\n",
            "Epoch 93/100\n",
            "1313/1313 [==============================] - 4s 3ms/step - loss: 0.6351 - accuracy: 0.7667 - val_loss: 0.6246 - val_accuracy: 0.7749\n",
            "Epoch 94/100\n",
            "1313/1313 [==============================] - 4s 3ms/step - loss: 0.6120 - accuracy: 0.7785 - val_loss: 0.6230 - val_accuracy: 0.7803\n",
            "Epoch 95/100\n",
            "1313/1313 [==============================] - 4s 3ms/step - loss: 0.6021 - accuracy: 0.7844 - val_loss: 0.6103 - val_accuracy: 0.7752\n",
            "Epoch 96/100\n",
            "1313/1313 [==============================] - 4s 3ms/step - loss: 0.5951 - accuracy: 0.7859 - val_loss: 0.6055 - val_accuracy: 0.7823\n",
            "Epoch 97/100\n",
            "1313/1313 [==============================] - 5s 3ms/step - loss: 0.6110 - accuracy: 0.7802 - val_loss: 0.6230 - val_accuracy: 0.7748\n",
            "Epoch 98/100\n",
            "1313/1313 [==============================] - 4s 3ms/step - loss: 0.6071 - accuracy: 0.7778 - val_loss: 0.6079 - val_accuracy: 0.7777\n",
            "Epoch 99/100\n",
            "1313/1313 [==============================] - 5s 3ms/step - loss: 0.6183 - accuracy: 0.7675 - val_loss: 0.6435 - val_accuracy: 0.7741\n",
            "Epoch 100/100\n",
            "1313/1313 [==============================] - 4s 3ms/step - loss: 0.6440 - accuracy: 0.7589 - val_loss: 0.6334 - val_accuracy: 0.7657\n"
          ]
        }
      ]
    },
    {
      "cell_type": "code",
      "source": [
        "# 시각화\n",
        "plt.figure(figsize=(15,5))\n",
        "plt.plot(mnist_history.history[\"loss\"],label=\"loss\")\n",
        "plt.plot(mnist_history.history[\"val_loss\"],label=\"val_loss\") # 과대적합 여부를 확인하기 위해 검증 데이터도 그래프 시각화\n",
        "plt.legend()\n",
        "plt.show()"
      ],
      "metadata": {
        "id": "H_w-QkTn7qVR",
        "colab": {
          "base_uri": "https://localhost:8080/",
          "height": 322
        },
        "outputId": "15b2cb14-c1e4-4b43-9b07-a9e3d8a8a485"
      },
      "execution_count": null,
      "outputs": [
        {
          "output_type": "display_data",
          "data": {
            "image/png": "[encoded data removed]",
            "text/plain": [
              "<Figure size 1080x360 with 1 Axes>"
            ]
          },
          "metadata": {
            "needs_background": "light"
          }
        }
      ]
    },
    {
      "cell_type": "code",
      "source": [
        "# 모델 평가\n",
        "mnist_model.evaluate(X_test, y_test_one_hot)"
      ],
      "metadata": {
        "id": "oqdEAoba7LgX",
        "colab": {
          "base_uri": "https://localhost:8080/",
          "height": 694
        },
        "outputId": "2fa27451-2018-41b3-f147-215a60ce26c8"
      },
      "execution_count": null,
      "outputs": [
        {
          "output_type": "error",
          "ename": "ValueError",
          "evalue": "ignored",
          "traceback": [
            "\u001b[0;31m---------------------------------------------------------------------------\u001b[0m",
            "\u001b[0;31mValueError\u001b[0m                                Traceback (most recent call last)",
            "\u001b[0;32m<ipython-input-19-2a190aad8dcd>\u001b[0m in \u001b[0;36m<module>\u001b[0;34m()\u001b[0m\n\u001b[1;32m      1\u001b[0m \u001b[0;31m# 모델 평가\u001b[0m\u001b[0;34m\u001b[0m\u001b[0;34m\u001b[0m\u001b[0;34m\u001b[0m\u001b[0m\n\u001b[0;32m----> 2\u001b[0;31m \u001b[0mmnist_model\u001b[0m\u001b[0;34m.\u001b[0m\u001b[0mevaluate\u001b[0m\u001b[0;34m(\u001b[0m\u001b[0mX_test\u001b[0m\u001b[0;34m,\u001b[0m \u001b[0my_test_one_hot\u001b[0m\u001b[0;34m)\u001b[0m\u001b[0;34m\u001b[0m\u001b[0;34m\u001b[0m\u001b[0m\n\u001b[0m",
            "\u001b[0;32m/usr/local/lib/python3.7/dist-packages/keras/utils/traceback_utils.py\u001b[0m in \u001b[0;36merror_handler\u001b[0;34m(*args, **kwargs)\u001b[0m\n\u001b[1;32m     65\u001b[0m     \u001b[0;32mexcept\u001b[0m \u001b[0mException\u001b[0m \u001b[0;32mas\u001b[0m \u001b[0me\u001b[0m\u001b[0;34m:\u001b[0m  \u001b[0;31m# pylint: disable=broad-except\u001b[0m\u001b[0;34m\u001b[0m\u001b[0;34m\u001b[0m\u001b[0m\n\u001b[1;32m     66\u001b[0m       \u001b[0mfiltered_tb\u001b[0m \u001b[0;34m=\u001b[0m \u001b[0m_process_traceback_frames\u001b[0m\u001b[0;34m(\u001b[0m\u001b[0me\u001b[0m\u001b[0;34m.\u001b[0m\u001b[0m__traceback__\u001b[0m\u001b[0;34m)\u001b[0m\u001b[0;34m\u001b[0m\u001b[0;34m\u001b[0m\u001b[0m\n\u001b[0;32m---> 67\u001b[0;31m       \u001b[0;32mraise\u001b[0m \u001b[0me\u001b[0m\u001b[0;34m.\u001b[0m\u001b[0mwith_traceback\u001b[0m\u001b[0;34m(\u001b[0m\u001b[0mfiltered_tb\u001b[0m\u001b[0;34m)\u001b[0m \u001b[0;32mfrom\u001b[0m \u001b[0;32mNone\u001b[0m\u001b[0;34m\u001b[0m\u001b[0;34m\u001b[0m\u001b[0m\n\u001b[0m\u001b[1;32m     68\u001b[0m     \u001b[0;32mfinally\u001b[0m\u001b[0;34m:\u001b[0m\u001b[0;34m\u001b[0m\u001b[0;34m\u001b[0m\u001b[0m\n\u001b[1;32m     69\u001b[0m       \u001b[0;32mdel\u001b[0m \u001b[0mfiltered_tb\u001b[0m\u001b[0;34m\u001b[0m\u001b[0;34m\u001b[0m\u001b[0m\n",
            "\u001b[0;32m/usr/local/lib/python3.7/dist-packages/tensorflow/python/framework/func_graph.py\u001b[0m in \u001b[0;36mautograph_handler\u001b[0;34m(*args, **kwargs)\u001b[0m\n\u001b[1;32m   1127\u001b[0m           \u001b[0;32mexcept\u001b[0m \u001b[0mException\u001b[0m \u001b[0;32mas\u001b[0m \u001b[0me\u001b[0m\u001b[0;34m:\u001b[0m  \u001b[0;31m# pylint:disable=broad-except\u001b[0m\u001b[0;34m\u001b[0m\u001b[0;34m\u001b[0m\u001b[0m\n\u001b[1;32m   1128\u001b[0m             \u001b[0;32mif\u001b[0m \u001b[0mhasattr\u001b[0m\u001b[0;34m(\u001b[0m\u001b[0me\u001b[0m\u001b[0;34m,\u001b[0m \u001b[0;34m\"ag_error_metadata\"\u001b[0m\u001b[0;34m)\u001b[0m\u001b[0;34m:\u001b[0m\u001b[0;34m\u001b[0m\u001b[0;34m\u001b[0m\u001b[0m\n\u001b[0;32m-> 1129\u001b[0;31m               \u001b[0;32mraise\u001b[0m \u001b[0me\u001b[0m\u001b[0;34m.\u001b[0m\u001b[0mag_error_metadata\u001b[0m\u001b[0;34m.\u001b[0m\u001b[0mto_exception\u001b[0m\u001b[0;34m(\u001b[0m\u001b[0me\u001b[0m\u001b[0;34m)\u001b[0m\u001b[0;34m\u001b[0m\u001b[0;34m\u001b[0m\u001b[0m\n\u001b[0m\u001b[1;32m   1130\u001b[0m             \u001b[0;32melse\u001b[0m\u001b[0;34m:\u001b[0m\u001b[0;34m\u001b[0m\u001b[0;34m\u001b[0m\u001b[0m\n\u001b[1;32m   1131\u001b[0m               \u001b[0;32mraise\u001b[0m\u001b[0;34m\u001b[0m\u001b[0;34m\u001b[0m\u001b[0m\n",
            "\u001b[0;31mValueError\u001b[0m: in user code:\n\n    File \"/usr/local/lib/python3.7/dist-packages/keras/engine/training.py\", line 1366, in test_function  *\n        return step_function(self, iterator)\n    File \"/usr/local/lib/python3.7/dist-packages/keras/engine/training.py\", line 1356, in step_function  **\n        outputs = model.distribute_strategy.run(run_step, args=(data,))\n    File \"/usr/local/lib/python3.7/dist-packages/keras/engine/training.py\", line 1349, in run_step  **\n        outputs = model.test_step(data)\n    File \"/usr/local/lib/python3.7/dist-packages/keras/engine/training.py\", line 1307, in test_step\n        self.compiled_metrics.update_state(y, y_pred, sample_weight)\n    File \"/usr/local/lib/python3.7/dist-packages/keras/engine/compile_utils.py\", line 460, in update_state\n        metric_obj.update_state(y_t, y_p, sample_weight=mask)\n    File \"/usr/local/lib/python3.7/dist-packages/keras/utils/metrics_utils.py\", line 73, in decorated\n        update_op = update_state_fn(*args, **kwargs)\n    File \"/usr/local/lib/python3.7/dist-packages/keras/metrics.py\", line 177, in update_state_fn\n        return ag_update_state(*args, **kwargs)\n    File \"/usr/local/lib/python3.7/dist-packages/keras/metrics.py\", line 725, in update_state  **\n        matches = ag_fn(y_true, y_pred, **self._fn_kwargs)\n    File \"/usr/local/lib/python3.7/dist-packages/keras/metrics.py\", line 3601, in sparse_categorical_accuracy\n        y_true = tf.squeeze(y_true, [-1])\n\n    ValueError: Can not squeeze dim[1], expected a dimension of 1, got 10 for '{{node Squeeze}} = Squeeze[T=DT_FLOAT, squeeze_dims=[-1]](IteratorGetNext:1)' with input shapes: [?,10].\n"
          ]
        }
      ]
    },
    {
      "cell_type": "code",
      "source": [
        "!df -h # 할당량 확인 /dev/sda1  Size 총량 Avail 할당량"
      ],
      "metadata": {
        "id": "2YRvvstH85cv",
        "colab": {
          "base_uri": "https://localhost:8080/"
        },
        "outputId": "e56ab19a-2bb0-4150-c1fd-b99ad9f5a082"
      },
      "execution_count": null,
      "outputs": [
        {
          "output_type": "stream",
          "name": "stdout",
          "text": [
            "Filesystem      Size  Used Avail Use% Mounted on\n",
            "overlay         108G   42G   66G  39% /\n",
            "tmpfs            64M     0   64M   0% /dev\n",
            "shm             5.8G     0  5.8G   0% /dev/shm\n",
            "/dev/root       2.0G  1.2G  817M  59% /sbin/docker-init\n",
            "tmpfs           6.4G   40K  6.4G   1% /var/colab\n",
            "/dev/sda1        81G   46G   36G  57% /etc/hosts\n",
            "tmpfs           6.4G     0  6.4G   0% /proc/acpi\n",
            "tmpfs           6.4G     0  6.4G   0% /proc/scsi\n",
            "tmpfs           6.4G     0  6.4G   0% /sys/firmware\n"
          ]
        }
      ]
    },
    {
      "cell_type": "code",
      "source": [
        "# 모델 저장\n",
        "mnist_model.save(\"my_fasion_mode.h5\") "
      ],
      "metadata": {
        "id": "gW96h7Hr9ddW"
      },
      "execution_count": null,
      "outputs": []
    },
    {
      "cell_type": "code",
      "source": [
        "# 모델 로드\n",
        "from tensorflow.keras.models import load_model\n",
        "\n",
        "m = load_model(\"./my_fashion_mode.h5\")\n",
        "\n",
        "m.predict(X_test[100:102]) # 100, 101 번째 예측하기"
      ],
      "metadata": {
        "id": "DDH1ODR3hkh0",
        "colab": {
          "base_uri": "https://localhost:8080/",
          "height": 381
        },
        "outputId": "978856e0-f32a-4541-80b0-5ee163efdb5a"
      },
      "execution_count": null,
      "outputs": [
        {
          "output_type": "error",
          "ename": "OSError",
          "evalue": "ignored",
          "traceback": [
            "\u001b[0;31m---------------------------------------------------------------------------\u001b[0m",
            "\u001b[0;31mOSError\u001b[0m                                   Traceback (most recent call last)",
            "\u001b[0;32m<ipython-input-25-599986572ff1>\u001b[0m in \u001b[0;36m<module>\u001b[0;34m()\u001b[0m\n\u001b[1;32m      2\u001b[0m \u001b[0;32mfrom\u001b[0m \u001b[0mtensorflow\u001b[0m\u001b[0;34m.\u001b[0m\u001b[0mkeras\u001b[0m\u001b[0;34m.\u001b[0m\u001b[0mmodels\u001b[0m \u001b[0;32mimport\u001b[0m \u001b[0mload_model\u001b[0m\u001b[0;34m\u001b[0m\u001b[0;34m\u001b[0m\u001b[0m\n\u001b[1;32m      3\u001b[0m \u001b[0;34m\u001b[0m\u001b[0m\n\u001b[0;32m----> 4\u001b[0;31m \u001b[0mm\u001b[0m \u001b[0;34m=\u001b[0m \u001b[0mload_model\u001b[0m\u001b[0;34m(\u001b[0m\u001b[0;34m\"./my_fashion_mode.h5\"\u001b[0m\u001b[0;34m)\u001b[0m\u001b[0;34m\u001b[0m\u001b[0;34m\u001b[0m\u001b[0m\n\u001b[0m\u001b[1;32m      5\u001b[0m \u001b[0;34m\u001b[0m\u001b[0m\n\u001b[1;32m      6\u001b[0m \u001b[0mm\u001b[0m\u001b[0;34m.\u001b[0m\u001b[0mpredict\u001b[0m\u001b[0;34m(\u001b[0m\u001b[0mX_test\u001b[0m\u001b[0;34m[\u001b[0m\u001b[0;36m100\u001b[0m\u001b[0;34m:\u001b[0m\u001b[0;36m102\u001b[0m\u001b[0;34m]\u001b[0m\u001b[0;34m)\u001b[0m \u001b[0;31m# 100, 101 번째 예측하기\u001b[0m\u001b[0;34m\u001b[0m\u001b[0;34m\u001b[0m\u001b[0m\n",
            "\u001b[0;32m/usr/local/lib/python3.7/dist-packages/keras/utils/traceback_utils.py\u001b[0m in \u001b[0;36merror_handler\u001b[0;34m(*args, **kwargs)\u001b[0m\n\u001b[1;32m     65\u001b[0m     \u001b[0;32mexcept\u001b[0m \u001b[0mException\u001b[0m \u001b[0;32mas\u001b[0m \u001b[0me\u001b[0m\u001b[0;34m:\u001b[0m  \u001b[0;31m# pylint: disable=broad-except\u001b[0m\u001b[0;34m\u001b[0m\u001b[0;34m\u001b[0m\u001b[0m\n\u001b[1;32m     66\u001b[0m       \u001b[0mfiltered_tb\u001b[0m \u001b[0;34m=\u001b[0m \u001b[0m_process_traceback_frames\u001b[0m\u001b[0;34m(\u001b[0m\u001b[0me\u001b[0m\u001b[0;34m.\u001b[0m\u001b[0m__traceback__\u001b[0m\u001b[0;34m)\u001b[0m\u001b[0;34m\u001b[0m\u001b[0;34m\u001b[0m\u001b[0m\n\u001b[0;32m---> 67\u001b[0;31m       \u001b[0;32mraise\u001b[0m \u001b[0me\u001b[0m\u001b[0;34m.\u001b[0m\u001b[0mwith_traceback\u001b[0m\u001b[0;34m(\u001b[0m\u001b[0mfiltered_tb\u001b[0m\u001b[0;34m)\u001b[0m \u001b[0;32mfrom\u001b[0m \u001b[0;32mNone\u001b[0m\u001b[0;34m\u001b[0m\u001b[0;34m\u001b[0m\u001b[0m\n\u001b[0m\u001b[1;32m     68\u001b[0m     \u001b[0;32mfinally\u001b[0m\u001b[0;34m:\u001b[0m\u001b[0;34m\u001b[0m\u001b[0;34m\u001b[0m\u001b[0m\n\u001b[1;32m     69\u001b[0m       \u001b[0;32mdel\u001b[0m \u001b[0mfiltered_tb\u001b[0m\u001b[0;34m\u001b[0m\u001b[0;34m\u001b[0m\u001b[0m\n",
            "\u001b[0;32m/usr/local/lib/python3.7/dist-packages/keras/saving/save.py\u001b[0m in \u001b[0;36mload_model\u001b[0;34m(filepath, custom_objects, compile, options)\u001b[0m\n\u001b[1;32m    207\u001b[0m         \u001b[0;32mif\u001b[0m \u001b[0misinstance\u001b[0m\u001b[0;34m(\u001b[0m\u001b[0mfilepath\u001b[0m\u001b[0;34m,\u001b[0m \u001b[0mstr\u001b[0m\u001b[0;34m)\u001b[0m\u001b[0;34m:\u001b[0m\u001b[0;34m\u001b[0m\u001b[0;34m\u001b[0m\u001b[0m\n\u001b[1;32m    208\u001b[0m           \u001b[0;32mif\u001b[0m \u001b[0;32mnot\u001b[0m \u001b[0mtf\u001b[0m\u001b[0;34m.\u001b[0m\u001b[0mio\u001b[0m\u001b[0;34m.\u001b[0m\u001b[0mgfile\u001b[0m\u001b[0;34m.\u001b[0m\u001b[0mexists\u001b[0m\u001b[0;34m(\u001b[0m\u001b[0mfilepath\u001b[0m\u001b[0;34m)\u001b[0m\u001b[0;34m:\u001b[0m\u001b[0;34m\u001b[0m\u001b[0;34m\u001b[0m\u001b[0m\n\u001b[0;32m--> 209\u001b[0;31m             \u001b[0;32mraise\u001b[0m \u001b[0mIOError\u001b[0m\u001b[0;34m(\u001b[0m\u001b[0;34mf'No file or directory found at {filepath}'\u001b[0m\u001b[0;34m)\u001b[0m\u001b[0;34m\u001b[0m\u001b[0;34m\u001b[0m\u001b[0m\n\u001b[0m\u001b[1;32m    210\u001b[0m           \u001b[0;32mif\u001b[0m \u001b[0msaving_utils\u001b[0m\u001b[0;34m.\u001b[0m\u001b[0mis_hdf5_filepath\u001b[0m\u001b[0;34m(\u001b[0m\u001b[0mfilepath\u001b[0m\u001b[0;34m)\u001b[0m \u001b[0;32mand\u001b[0m \u001b[0mh5py\u001b[0m \u001b[0;32mis\u001b[0m \u001b[0;32mNone\u001b[0m\u001b[0;34m:\u001b[0m\u001b[0;34m\u001b[0m\u001b[0;34m\u001b[0m\u001b[0m\n\u001b[1;32m    211\u001b[0m             raise ImportError(\n",
            "\u001b[0;31mOSError\u001b[0m: No file or directory found at ./my_fashion_mode.h5"
          ]
        }
      ]
    },
    {
      "cell_type": "code",
      "source": [
        "|"
      ],
      "metadata": {
        "id": "stbri2HbjrQW"
      },
      "execution_count": null,
      "outputs": []
    }
  ]
}